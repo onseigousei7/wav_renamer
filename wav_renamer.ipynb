{
  "nbformat": 4,
  "nbformat_minor": 0,
  "metadata": {
    "colab": {
      "name": "wav_renamer.ipynb",
      "provenance": [],
      "collapsed_sections": [],
      "mount_file_id": "1PbsT8v6Z5hvScW4mNkGk7eECqgvC9fE5",
      "authorship_tag": "ABX9TyOm1klmX2v75YEXX0P6ENcl",
      "include_colab_link": true
    },
    "kernelspec": {
      "name": "python3",
      "display_name": "Python 3"
    },
    "language_info": {
      "name": "python"
    },
    "accelerator": "GPU"
  },
  "cells": [
    {
      "cell_type": "markdown",
      "metadata": {
        "id": "view-in-github",
        "colab_type": "text"
      },
      "source": [
        "<a href=\"https://colab.research.google.com/github/onseigousei7/wav_renamer/blob/main/wav_renamer.ipynb\" target=\"_parent\"><img src=\"https://colab.research.google.com/assets/colab-badge.svg\" alt=\"Open In Colab\"/></a>"
      ]
    },
    {
      "cell_type": "code",
      "source": [
        "!pip install espnet_model_zoo"
      ],
      "metadata": {
        "colab": {
          "base_uri": "https://localhost:8080/"
        },
        "id": "sgQuJ0sjzrwg",
        "outputId": "f0e958b6-4564-4644-a26b-50a44e978882"
      },
      "execution_count": 1,
      "outputs": [
        {
          "output_type": "stream",
          "name": "stdout",
          "text": [
            "Collecting espnet_model_zoo\n",
            "  Downloading espnet_model_zoo-0.1.7-py3-none-any.whl (19 kB)\n",
            "Collecting huggingface-hub\n",
            "  Downloading huggingface_hub-0.4.0-py3-none-any.whl (67 kB)\n",
            "\u001b[?25l\r\u001b[K     |█████                           | 10 kB 42.1 MB/s eta 0:00:01\r\u001b[K     |█████████▉                      | 20 kB 46.6 MB/s eta 0:00:01\r\u001b[K     |██████████████▊                 | 30 kB 39.1 MB/s eta 0:00:01\r\u001b[K     |███████████████████▋            | 40 kB 24.8 MB/s eta 0:00:01\r\u001b[K     |████████████████████████▌       | 51 kB 14.6 MB/s eta 0:00:01\r\u001b[K     |█████████████████████████████▍  | 61 kB 17.0 MB/s eta 0:00:01\r\u001b[K     |████████████████████████████████| 67 kB 5.1 MB/s \n",
            "\u001b[?25hRequirement already satisfied: pandas in /usr/local/lib/python3.7/dist-packages (from espnet_model_zoo) (1.1.5)\n",
            "Requirement already satisfied: tqdm in /usr/local/lib/python3.7/dist-packages (from espnet_model_zoo) (4.62.3)\n",
            "Requirement already satisfied: numpy in /usr/local/lib/python3.7/dist-packages (from espnet_model_zoo) (1.19.5)\n",
            "Collecting espnet\n",
            "  Downloading espnet-0.10.5-py3-none-any.whl (947 kB)\n",
            "\u001b[K     |████████████████████████████████| 947 kB 29.7 MB/s \n",
            "\u001b[?25hRequirement already satisfied: requests in /usr/local/lib/python3.7/dist-packages (from espnet_model_zoo) (2.23.0)\n",
            "Requirement already satisfied: filelock in /usr/local/lib/python3.7/dist-packages (from espnet_model_zoo) (3.4.2)\n",
            "Collecting kaldiio>=2.17.0\n",
            "  Downloading kaldiio-2.17.2.tar.gz (24 kB)\n",
            "Collecting sentencepiece\n",
            "  Downloading sentencepiece-0.1.96-cp37-cp37m-manylinux_2_17_x86_64.manylinux2014_x86_64.whl (1.2 MB)\n",
            "\u001b[K     |████████████████████████████████| 1.2 MB 60.2 MB/s \n",
            "\u001b[?25hCollecting pyworld>=0.2.10\n",
            "  Downloading pyworld-0.3.0.tar.gz (212 kB)\n",
            "\u001b[K     |████████████████████████████████| 212 kB 70.0 MB/s \n",
            "\u001b[?25h  Installing build dependencies ... \u001b[?25l\u001b[?25hdone\n",
            "  Getting requirements to build wheel ... \u001b[?25l\u001b[?25hdone\n",
            "    Preparing wheel metadata ... \u001b[?25l\u001b[?25hdone\n",
            "Requirement already satisfied: typeguard>=2.7.0 in /usr/local/lib/python3.7/dist-packages (from espnet->espnet_model_zoo) (2.7.1)\n",
            "Requirement already satisfied: scipy>=1.4.1 in /usr/local/lib/python3.7/dist-packages (from espnet->espnet_model_zoo) (1.4.1)\n",
            "Collecting pytorch-wpe\n",
            "  Downloading pytorch_wpe-0.0.1-py3-none-any.whl (8.1 kB)\n",
            "Requirement already satisfied: torch>=1.3.0 in /usr/local/lib/python3.7/dist-packages (from espnet->espnet_model_zoo) (1.10.0+cu111)\n",
            "Collecting ci-sdr\n",
            "  Downloading ci_sdr-0.0.0.tar.gz (15 kB)\n",
            "Collecting ctc-segmentation<1.8,>=1.6.6\n",
            "  Downloading ctc_segmentation-1.7.1.tar.gz (71 kB)\n",
            "\u001b[K     |████████████████████████████████| 71 kB 10.2 MB/s \n",
            "\u001b[?25hCollecting configargparse>=1.2.1\n",
            "  Downloading ConfigArgParse-1.5.3-py3-none-any.whl (20 kB)\n",
            "Requirement already satisfied: h5py>=2.10.0 in /usr/local/lib/python3.7/dist-packages (from espnet->espnet_model_zoo) (3.1.0)\n",
            "Collecting humanfriendly\n",
            "  Downloading humanfriendly-10.0-py2.py3-none-any.whl (86 kB)\n",
            "\u001b[K     |████████████████████████████████| 86 kB 8.4 MB/s \n",
            "\u001b[?25hCollecting PyYAML>=5.1.2\n",
            "  Downloading PyYAML-6.0-cp37-cp37m-manylinux_2_5_x86_64.manylinux1_x86_64.manylinux_2_12_x86_64.manylinux2010_x86_64.whl (596 kB)\n",
            "\u001b[K     |████████████████████████████████| 596 kB 77.1 MB/s \n",
            "\u001b[?25hRequirement already satisfied: setuptools>=38.5.1 in /usr/local/lib/python3.7/dist-packages (from espnet->espnet_model_zoo) (57.4.0)\n",
            "Collecting jamo==0.4.1\n",
            "  Downloading jamo-0.4.1-py3-none-any.whl (9.5 kB)\n",
            "Requirement already satisfied: soundfile>=0.10.2 in /usr/local/lib/python3.7/dist-packages (from espnet->espnet_model_zoo) (0.10.3.post1)\n",
            "Collecting torch-complex\n",
            "  Downloading torch_complex-0.2.1-py3-none-any.whl (8.9 kB)\n",
            "Collecting nltk>=3.4.5\n",
            "  Downloading nltk-3.6.7-py3-none-any.whl (1.5 MB)\n",
            "\u001b[K     |████████████████████████████████| 1.5 MB 51.2 MB/s \n",
            "\u001b[?25hCollecting espnet-tts-frontend\n",
            "  Downloading espnet_tts_frontend-0.0.3-py3-none-any.whl (11 kB)\n",
            "Requirement already satisfied: librosa>=0.8.0 in /usr/local/lib/python3.7/dist-packages (from espnet->espnet_model_zoo) (0.8.1)\n",
            "Requirement already satisfied: Cython in /usr/local/lib/python3.7/dist-packages (from ctc-segmentation<1.8,>=1.6.6->espnet->espnet_model_zoo) (0.29.26)\n",
            "Requirement already satisfied: cached-property in /usr/local/lib/python3.7/dist-packages (from h5py>=2.10.0->espnet->espnet_model_zoo) (1.5.2)\n",
            "Requirement already satisfied: packaging>=20.0 in /usr/local/lib/python3.7/dist-packages (from librosa>=0.8.0->espnet->espnet_model_zoo) (21.3)\n",
            "Requirement already satisfied: scikit-learn!=0.19.0,>=0.14.0 in /usr/local/lib/python3.7/dist-packages (from librosa>=0.8.0->espnet->espnet_model_zoo) (1.0.2)\n",
            "Requirement already satisfied: decorator>=3.0.0 in /usr/local/lib/python3.7/dist-packages (from librosa>=0.8.0->espnet->espnet_model_zoo) (4.4.2)\n",
            "Requirement already satisfied: pooch>=1.0 in /usr/local/lib/python3.7/dist-packages (from librosa>=0.8.0->espnet->espnet_model_zoo) (1.5.2)\n",
            "Requirement already satisfied: audioread>=2.0.0 in /usr/local/lib/python3.7/dist-packages (from librosa>=0.8.0->espnet->espnet_model_zoo) (2.1.9)\n",
            "Requirement already satisfied: joblib>=0.14 in /usr/local/lib/python3.7/dist-packages (from librosa>=0.8.0->espnet->espnet_model_zoo) (1.1.0)\n",
            "Requirement already satisfied: numba>=0.43.0 in /usr/local/lib/python3.7/dist-packages (from librosa>=0.8.0->espnet->espnet_model_zoo) (0.51.2)\n",
            "Requirement already satisfied: resampy>=0.2.2 in /usr/local/lib/python3.7/dist-packages (from librosa>=0.8.0->espnet->espnet_model_zoo) (0.2.2)\n",
            "Collecting regex>=2021.8.3\n",
            "  Downloading regex-2021.11.10-cp37-cp37m-manylinux_2_17_x86_64.manylinux2014_x86_64.whl (749 kB)\n",
            "\u001b[K     |████████████████████████████████| 749 kB 74.3 MB/s \n",
            "\u001b[?25hRequirement already satisfied: click in /usr/local/lib/python3.7/dist-packages (from nltk>=3.4.5->espnet->espnet_model_zoo) (7.1.2)\n",
            "Requirement already satisfied: llvmlite<0.35,>=0.34.0.dev0 in /usr/local/lib/python3.7/dist-packages (from numba>=0.43.0->librosa>=0.8.0->espnet->espnet_model_zoo) (0.34.0)\n",
            "Requirement already satisfied: pyparsing!=3.0.5,>=2.0.2 in /usr/local/lib/python3.7/dist-packages (from packaging>=20.0->librosa>=0.8.0->espnet->espnet_model_zoo) (3.0.6)\n",
            "Requirement already satisfied: appdirs in /usr/local/lib/python3.7/dist-packages (from pooch>=1.0->librosa>=0.8.0->espnet->espnet_model_zoo) (1.4.4)\n",
            "Requirement already satisfied: six>=1.3 in /usr/local/lib/python3.7/dist-packages (from resampy>=0.2.2->librosa>=0.8.0->espnet->espnet_model_zoo) (1.15.0)\n",
            "Requirement already satisfied: threadpoolctl>=2.0.0 in /usr/local/lib/python3.7/dist-packages (from scikit-learn!=0.19.0,>=0.14.0->librosa>=0.8.0->espnet->espnet_model_zoo) (3.0.0)\n",
            "Requirement already satisfied: cffi>=1.0 in /usr/local/lib/python3.7/dist-packages (from soundfile>=0.10.2->espnet->espnet_model_zoo) (1.15.0)\n",
            "Requirement already satisfied: pycparser in /usr/local/lib/python3.7/dist-packages (from cffi>=1.0->soundfile>=0.10.2->espnet->espnet_model_zoo) (2.21)\n",
            "Requirement already satisfied: typing-extensions in /usr/local/lib/python3.7/dist-packages (from torch>=1.3.0->espnet->espnet_model_zoo) (3.10.0.2)\n",
            "Collecting einops\n",
            "  Downloading einops-0.3.2-py3-none-any.whl (25 kB)\n",
            "Collecting g2p-en\n",
            "  Downloading g2p_en-2.1.0-py3-none-any.whl (3.1 MB)\n",
            "\u001b[K     |████████████████████████████████| 3.1 MB 80.8 MB/s \n",
            "\u001b[?25hCollecting pypinyin\n",
            "  Downloading pypinyin-0.44.0-py2.py3-none-any.whl (1.3 MB)\n",
            "\u001b[K     |████████████████████████████████| 1.3 MB 69.1 MB/s \n",
            "\u001b[?25hRequirement already satisfied: inflect>=1.0.0 in /usr/local/lib/python3.7/dist-packages (from espnet-tts-frontend->espnet->espnet_model_zoo) (2.1.0)\n",
            "Collecting jaconv\n",
            "  Downloading jaconv-0.3.tar.gz (15 kB)\n",
            "Collecting unidecode>=1.0.22\n",
            "  Downloading Unidecode-1.3.2-py3-none-any.whl (235 kB)\n",
            "\u001b[K     |████████████████████████████████| 235 kB 73.2 MB/s \n",
            "\u001b[?25hCollecting distance>=0.1.3\n",
            "  Downloading Distance-0.1.3.tar.gz (180 kB)\n",
            "\u001b[K     |████████████████████████████████| 180 kB 82.9 MB/s \n",
            "\u001b[?25hRequirement already satisfied: importlib-metadata in /usr/local/lib/python3.7/dist-packages (from huggingface-hub->espnet_model_zoo) (4.10.0)\n",
            "Requirement already satisfied: zipp>=0.5 in /usr/local/lib/python3.7/dist-packages (from importlib-metadata->huggingface-hub->espnet_model_zoo) (3.7.0)\n",
            "Requirement already satisfied: pytz>=2017.2 in /usr/local/lib/python3.7/dist-packages (from pandas->espnet_model_zoo) (2018.9)\n",
            "Requirement already satisfied: python-dateutil>=2.7.3 in /usr/local/lib/python3.7/dist-packages (from pandas->espnet_model_zoo) (2.8.2)\n",
            "Requirement already satisfied: urllib3!=1.25.0,!=1.25.1,<1.26,>=1.21.1 in /usr/local/lib/python3.7/dist-packages (from requests->espnet_model_zoo) (1.24.3)\n",
            "Requirement already satisfied: idna<3,>=2.5 in /usr/local/lib/python3.7/dist-packages (from requests->espnet_model_zoo) (2.10)\n",
            "Requirement already satisfied: chardet<4,>=3.0.2 in /usr/local/lib/python3.7/dist-packages (from requests->espnet_model_zoo) (3.0.4)\n",
            "Requirement already satisfied: certifi>=2017.4.17 in /usr/local/lib/python3.7/dist-packages (from requests->espnet_model_zoo) (2021.10.8)\n",
            "Building wheels for collected packages: ctc-segmentation, kaldiio, pyworld, ci-sdr, distance, jaconv\n",
            "  Building wheel for ctc-segmentation (setup.py) ... \u001b[?25l\u001b[?25hdone\n",
            "  Created wheel for ctc-segmentation: filename=ctc_segmentation-1.7.1-cp37-cp37m-linux_x86_64.whl size=114730 sha256=22471cb438454346c5e4d0bd3ebd691d6776f449792a41417f70dadd1f72972f\n",
            "  Stored in directory: /root/.cache/pip/wheels/d6/ac/4a/64ebc95a83035c611af864bb1707bcf18322fcb9472ab2d675\n",
            "  Building wheel for kaldiio (setup.py) ... \u001b[?25l\u001b[?25hdone\n",
            "  Created wheel for kaldiio: filename=kaldiio-2.17.2-py3-none-any.whl size=24471 sha256=d6ce07d807cf498e87387b9d0c87d07b5a172c5361e465b8a4e17e81f3617a0d\n",
            "  Stored in directory: /root/.cache/pip/wheels/04/07/e8/45641287c59bf6ce41e22259f8680b521c31e6306cb88392ac\n",
            "  Building wheel for pyworld (PEP 517) ... \u001b[?25l\u001b[?25hdone\n",
            "  Created wheel for pyworld: filename=pyworld-0.3.0-cp37-cp37m-linux_x86_64.whl size=609478 sha256=c388b4854994565c942bc6cf2073ccb432b5999efceec55de30addf08f388277\n",
            "  Stored in directory: /root/.cache/pip/wheels/e7/7c/11/c775fffa0e1e7b05a6604b4323408a77f80fb4ab304d96b5c6\n",
            "  Building wheel for ci-sdr (setup.py) ... \u001b[?25l\u001b[?25hdone\n",
            "  Created wheel for ci-sdr: filename=ci_sdr-0.0.0-py3-none-any.whl size=14979 sha256=d7fceac3a8718db9e6236b8bf9752c6ca44949980d762bd56abc8c7843152ed8\n",
            "  Stored in directory: /root/.cache/pip/wheels/5f/38/80/2c54c1a4d62cbd3e0871eac9bb5dbb1f93257423888a4ae0ce\n",
            "  Building wheel for distance (setup.py) ... \u001b[?25l\u001b[?25hdone\n",
            "  Created wheel for distance: filename=Distance-0.1.3-py3-none-any.whl size=16276 sha256=8a26c8a60a3fa371c1c7bbe5982aca74f991d0bbe8ab1ebfac758e5664514063\n",
            "  Stored in directory: /root/.cache/pip/wheels/b2/10/1b/96fca621a1be378e2fe104cfb0d160bb6cdf3d04a3d35266cc\n",
            "  Building wheel for jaconv (setup.py) ... \u001b[?25l\u001b[?25hdone\n",
            "  Created wheel for jaconv: filename=jaconv-0.3-py3-none-any.whl size=15564 sha256=a4f6faa976b4ae0309df8de12b09bed4b08842b63f3c9b61c039474667af2dfc\n",
            "  Stored in directory: /root/.cache/pip/wheels/8f/4f/c2/a2a3b14d0e94f855f4aa8887bf0267bee9ecfb8e62a9ee2d92\n",
            "Successfully built ctc-segmentation kaldiio pyworld ci-sdr distance jaconv\n",
            "Installing collected packages: regex, nltk, distance, unidecode, pypinyin, jaconv, g2p-en, einops, torch-complex, sentencepiece, PyYAML, pyworld, pytorch-wpe, kaldiio, jamo, humanfriendly, espnet-tts-frontend, ctc-segmentation, configargparse, ci-sdr, huggingface-hub, espnet, espnet-model-zoo\n",
            "  Attempting uninstall: regex\n",
            "    Found existing installation: regex 2019.12.20\n",
            "    Uninstalling regex-2019.12.20:\n",
            "      Successfully uninstalled regex-2019.12.20\n",
            "  Attempting uninstall: nltk\n",
            "    Found existing installation: nltk 3.2.5\n",
            "    Uninstalling nltk-3.2.5:\n",
            "      Successfully uninstalled nltk-3.2.5\n",
            "  Attempting uninstall: PyYAML\n",
            "    Found existing installation: PyYAML 3.13\n",
            "    Uninstalling PyYAML-3.13:\n",
            "      Successfully uninstalled PyYAML-3.13\n",
            "Successfully installed PyYAML-6.0 ci-sdr-0.0.0 configargparse-1.5.3 ctc-segmentation-1.7.1 distance-0.1.3 einops-0.3.2 espnet-0.10.5 espnet-model-zoo-0.1.7 espnet-tts-frontend-0.0.3 g2p-en-2.1.0 huggingface-hub-0.4.0 humanfriendly-10.0 jaconv-0.3 jamo-0.4.1 kaldiio-2.17.2 nltk-3.6.7 pypinyin-0.44.0 pytorch-wpe-0.0.1 pyworld-0.3.0 regex-2021.11.10 sentencepiece-0.1.96 torch-complex-0.2.1 unidecode-1.3.2\n"
          ]
        }
      ]
    },
    {
      "cell_type": "code",
      "source": [
        "import soundfile as sf\n",
        "from espnet_model_zoo.downloader import ModelDownloader\n",
        "from espnet2.bin.asr_inference import Speech2Text\n",
        "\n",
        "import librosa\n",
        "import glob\n",
        "import pandas as pd\n",
        "from pathlib import Path\n",
        "import os"
      ],
      "metadata": {
        "colab": {
          "base_uri": "https://localhost:8080/"
        },
        "id": "JWylIsE_xovT",
        "outputId": "5316fb38-5dc7-4510-968b-aeecebfbc1c1"
      },
      "execution_count": 2,
      "outputs": [
        {
          "output_type": "stream",
          "name": "stderr",
          "text": [
            "[nltk_data] Downloading package averaged_perceptron_tagger to\n",
            "[nltk_data]     /root/nltk_data...\n",
            "[nltk_data]   Unzipping taggers/averaged_perceptron_tagger.zip.\n",
            "[nltk_data] Downloading package cmudict to /root/nltk_data...\n",
            "[nltk_data]   Unzipping corpora/cmudict.zip.\n"
          ]
        }
      ]
    },
    {
      "cell_type": "code",
      "source": [
        "#E2E-ASRモデルのインスタンスを作成します\n",
        "#音声ファイルからテキストを作成しますが、モーラや音素の生成はできないようです（？）\n",
        "#https://github.com/espnet/espnet/issues/3456\n",
        "d = ModelDownloader()\n",
        "speech2text = Speech2Text(\n",
        "    #下で使用するモデルだと、音声ファイルの周波数は16kHzである必要があります\n",
        "    **d.download_and_unpack(\"kan-bayashi/csj_asr_train_asr_transformer_raw_char_sp_valid.acc.ave\")\n",
        ")"
      ],
      "metadata": {
        "colab": {
          "base_uri": "https://localhost:8080/"
        },
        "id": "uYNkaKe5uV9f",
        "outputId": "b7e3d9bf-5378-4017-9401-8e601ebb5d4e"
      },
      "execution_count": 3,
      "outputs": [
        {
          "output_type": "stream",
          "name": "stderr",
          "text": [
            "https://zenodo.org/record/4037458/files/asr_train_asr_transformer_raw_char_sp_valid.acc.ave.zip?download=1: 100%|██████████| 412M/412M [00:04<00:00, 96.2MB/s]\n"
          ]
        }
      ]
    },
    {
      "cell_type": "code",
      "source": [
        "def asr(sound_data_path, sample_rate):\n",
        "  y, sr = librosa.core.load(sound_data_path, sr=sample_rate, mono=True)\n",
        "  #text, token, *_ = speech2text(y)[0]\n",
        "  result = speech2text(y)[0]\n",
        "  return result[0]\n",
        "\n",
        "def get_path_list(sound_data_folder, extension):\n",
        "  dir_path = sound_data_folder + '/*.' + extension\n",
        "  return glob.glob(dir_path)\n",
        "\n",
        "def generate_asr_csv(csv_path, sound_data_folder, input_sample_rate):\n",
        "  path_list = get_path_list(sound_data_folder, 'wav')\n",
        "  text_list = [] \n",
        "\n",
        "  for path in path_list:\n",
        "    print('processing: ', path)\n",
        "    text = asr(path, input_sample_rate)\n",
        "    print('text: ', text)\n",
        "    text_list.append(text)\n",
        "\n",
        "  dict = {'text': text_list, 'path': path_list} \n",
        "  df = pd.DataFrame(dict) \n",
        "  df.to_csv(csv_path)\n",
        "\n",
        "def rename_wav(csv_path):\n",
        "  df = pd.read_csv(csv_path)\n",
        "\n",
        "  for i in range(len(df)):\n",
        "    print('before rename: ', df['path'][i])\n",
        "    path = Path(df['path'][i])\n",
        "    rename_path = str(path.parent) + '/' + df['text'][i] + str(path.suffix)\n",
        "    print('after rename: ', rename_path)\n",
        "    os.rename(path, rename_path)"
      ],
      "metadata": {
        "id": "jKqieYRdz_2v"
      },
      "execution_count": 4,
      "outputs": []
    },
    {
      "cell_type": "code",
      "source": [
        "#音声データのあるフォルダから、それぞれのパスと書き起こしを記した記したcsvを作成します\n",
        "#csv_pathとsound_data_folderは各自ご変更ください\n",
        "csv_path = 'test.csv'\n",
        "sound_data_folder = '/content/drive/MyDrive/esp_test/wav/'\n",
        "input_sample_rate = 16000\n",
        "\n",
        "generate_asr_csv(csv_path, sound_data_folder, input_sample_rate)"
      ],
      "metadata": {
        "colab": {
          "base_uri": "https://localhost:8080/"
        },
        "id": "c3Y7udy99fFW",
        "outputId": "c658f7b5-7a8d-4e7b-ef04-682a823cce10"
      },
      "execution_count": 5,
      "outputs": [
        {
          "output_type": "stream",
          "name": "stdout",
          "text": [
            "processing:  /content/drive/MyDrive/esp_test/wav/BASIC5000_0005.wav\n"
          ]
        },
        {
          "output_type": "stream",
          "name": "stderr",
          "text": [
            "/usr/local/lib/python3.7/dist-packages/espnet2/layers/stft.py:166: UserWarning: __floordiv__ is deprecated, and its behavior will change in a future version of pytorch. It currently rounds toward 0 (like the 'trunc' function NOT 'floor'). This results in incorrect rounding for negative values. To keep the current behavior, use torch.div(a, b, rounding_mode='trunc'), or for actual floor division, use torch.div(a, b, rounding_mode='floor').\n",
            "  olens = (ilens - self.n_fft) // self.hop_length + 1\n",
            "/usr/local/lib/python3.7/dist-packages/espnet/nets/batch_beam_search.py:107: UserWarning: __floordiv__ is deprecated, and its behavior will change in a future version of pytorch. It currently rounds toward 0 (like the 'trunc' function NOT 'floor'). This results in incorrect rounding for negative values. To keep the current behavior, use torch.div(a, b, rounding_mode='trunc'), or for actual floor division, use torch.div(a, b, rounding_mode='floor').\n",
            "  prev_hyp_ids = top_ids // self.n_vocab\n"
          ]
        },
        {
          "output_type": "stream",
          "name": "stdout",
          "text": [
            "text:  血圧は健康のパラメーターとして重要である\n",
            "processing:  /content/drive/MyDrive/esp_test/wav/BASIC5000_0002.wav\n",
            "text:  木曜日経験会段は何の進展もないまま終了しました\n",
            "processing:  /content/drive/MyDrive/esp_test/wav/BASIC5000_0001.wav\n",
            "text:  水をマレーシアから買わなくてはならないのです\n",
            "processing:  /content/drive/MyDrive/esp_test/wav/BASIC5000_0010.wav\n",
            "text:  巻き試験に備えて本当に気合いを入れて勉強しなきゃ\n",
            "processing:  /content/drive/MyDrive/esp_test/wav/BASIC5000_0006.wav\n",
            "text:  週に四回フランスの授業があります\n",
            "processing:  /content/drive/MyDrive/esp_test/wav/BASIC5000_0004.wav\n",
            "text:  一週間してそのニュースは本当になった\n",
            "processing:  /content/drive/MyDrive/esp_test/wav/BASIC5000_0003.wav\n",
            "text:  上位の議員は私がデーターを歪めたと考発した\n",
            "processing:  /content/drive/MyDrive/esp_test/wav/BASIC5000_0007.wav\n",
            "text:  許可書がなければここへは入れない\n",
            "processing:  /content/drive/MyDrive/esp_test/wav/BASIC5000_0009.wav\n",
            "text:  無罪の人々は勿論表明された\n",
            "processing:  /content/drive/MyDrive/esp_test/wav/BASIC5000_0008.wav\n",
            "text:  大声で泣きながら女の子は母親を探していた\n"
          ]
        }
      ]
    },
    {
      "cell_type": "code",
      "source": [
        "#テキストの通りにリネームする場合はこれを使います\n",
        "rename_wav(csv_path)"
      ],
      "metadata": {
        "colab": {
          "base_uri": "https://localhost:8080/"
        },
        "id": "cT7AcREpD1ev",
        "outputId": "c451211e-577d-406d-96be-6ebf529e57b1"
      },
      "execution_count": 6,
      "outputs": [
        {
          "output_type": "stream",
          "name": "stdout",
          "text": [
            "before rename:  /content/drive/MyDrive/esp_test/wav/BASIC5000_0005.wav\n",
            "after rename:  /content/drive/MyDrive/esp_test/wav/血圧は健康のパラメーターとして重要である.wav\n",
            "before rename:  /content/drive/MyDrive/esp_test/wav/BASIC5000_0002.wav\n",
            "after rename:  /content/drive/MyDrive/esp_test/wav/木曜日経験会段は何の進展もないまま終了しました.wav\n",
            "before rename:  /content/drive/MyDrive/esp_test/wav/BASIC5000_0001.wav\n",
            "after rename:  /content/drive/MyDrive/esp_test/wav/水をマレーシアから買わなくてはならないのです.wav\n",
            "before rename:  /content/drive/MyDrive/esp_test/wav/BASIC5000_0010.wav\n",
            "after rename:  /content/drive/MyDrive/esp_test/wav/巻き試験に備えて本当に気合いを入れて勉強しなきゃ.wav\n",
            "before rename:  /content/drive/MyDrive/esp_test/wav/BASIC5000_0006.wav\n",
            "after rename:  /content/drive/MyDrive/esp_test/wav/週に四回フランスの授業があります.wav\n",
            "before rename:  /content/drive/MyDrive/esp_test/wav/BASIC5000_0004.wav\n",
            "after rename:  /content/drive/MyDrive/esp_test/wav/一週間してそのニュースは本当になった.wav\n",
            "before rename:  /content/drive/MyDrive/esp_test/wav/BASIC5000_0003.wav\n",
            "after rename:  /content/drive/MyDrive/esp_test/wav/上位の議員は私がデーターを歪めたと考発した.wav\n",
            "before rename:  /content/drive/MyDrive/esp_test/wav/BASIC5000_0007.wav\n",
            "after rename:  /content/drive/MyDrive/esp_test/wav/許可書がなければここへは入れない.wav\n",
            "before rename:  /content/drive/MyDrive/esp_test/wav/BASIC5000_0009.wav\n",
            "after rename:  /content/drive/MyDrive/esp_test/wav/無罪の人々は勿論表明された.wav\n",
            "before rename:  /content/drive/MyDrive/esp_test/wav/BASIC5000_0008.wav\n",
            "after rename:  /content/drive/MyDrive/esp_test/wav/大声で泣きながら女の子は母親を探していた.wav\n"
          ]
        }
      ]
    },
    {
      "cell_type": "code",
      "source": [
        "#以下を参照しました\n",
        "#https://tech.retrieva.jp/entry/2020/12/23/170645\n",
        "#https://kan-bayashi.github.io/asj-espnet2-tutorial/"
      ],
      "metadata": {
        "id": "h9vWEg6UyqGb"
      },
      "execution_count": null,
      "outputs": []
    }
  ]
}